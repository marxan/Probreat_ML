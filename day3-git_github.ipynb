{
 "cells": [
  {
   "cell_type": "markdown",
   "metadata": {},
   "source": [
    "# Metrics\n",
    "Standard metric <br>\n",
    "Business metric <br>\n",
    "Hypothesis before lokking at the data <br>\n",
    "Collecting data --> Processing --> FEatures Engineerung\n",
    "# Baseline\n",
    "it's like the benchmark or the target., With this we can calculate the metrics <br>\n",
    "# Select the model\n",
    "there are different techniques for the model selection\n",
    "# Train the model\n",
    "parameters tuning \n"
   ]
  },
  {
   "cell_type": "markdown",
   "metadata": {},
   "source": [
    "# Project Structure\n",
    "We have to organize the code in functions and classes that are script that can go in a module <br>"
   ]
  },
  {
   "cell_type": "markdown",
   "metadata": {},
   "source": [
    "# Cookiecuttier\n",
    "this is a tool to create a template\n",
    "cookiecutter https://github.com/drivendata/cookiecutter-data-science"
   ]
  },
  {
   "cell_type": "code",
   "execution_count": null,
   "metadata": {},
   "outputs": [],
   "source": []
  }
 ],
 "metadata": {
  "kernelspec": {
   "display_name": "Python 3",
   "language": "python",
   "name": "python3"
  },
  "language_info": {
   "codemirror_mode": {
    "name": "ipython",
    "version": 3
   },
   "file_extension": ".py",
   "mimetype": "text/x-python",
   "name": "python",
   "nbconvert_exporter": "python",
   "pygments_lexer": "ipython3",
   "version": "3.6.5"
  }
 },
 "nbformat": 4,
 "nbformat_minor": 2
}
