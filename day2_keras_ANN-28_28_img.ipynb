{
 "cells": [
  {
   "cell_type": "markdown",
   "metadata": {},
   "source": []
  },
  {
   "cell_type": "code",
   "execution_count": 1,
   "metadata": {},
   "outputs": [
    {
     "name": "stderr",
     "output_type": "stream",
     "text": [
      "/anaconda3/lib/python3.6/site-packages/h5py/__init__.py:36: FutureWarning: Conversion of the second argument of issubdtype from `float` to `np.floating` is deprecated. In future, it will be treated as `np.float64 == np.dtype(float).type`.\n",
      "  from ._conv import register_converters as _register_converters\n",
      "Using TensorFlow backend.\n"
     ]
    },
    {
     "name": "stdout",
     "output_type": "stream",
     "text": [
      "2.2.2\n"
     ]
    }
   ],
   "source": [
    "import pandas as pd\n",
    "import numpy as pd\n",
    "import matplotlib.pyplot as plt\n",
    "%matplotlib inline\n",
    "import keras\n",
    "print(keras.__version__)\n",
    "from keras.datasets import mnist\n",
    "from keras import models,layers"
   ]
  },
  {
   "cell_type": "markdown",
   "metadata": {},
   "source": [
    "# Neural Network Architecture"
   ]
  },
  {
   "cell_type": "markdown",
   "metadata": {},
   "source": [
    "Classification in 10 classes (supervised)\n",
    "\n",
    "Input layer : INPUT --> shape(28,28) 784 pixels -- OUTPUT --> 512\n",
    "\n",
    "Flattening (needed beacuse of the shape of the output layers that is 1 - matrix multiplication result)\n",
    "\n",
    "Output Layer: 10 classes"
   ]
  },
  {
   "cell_type": "code",
   "execution_count": 17,
   "metadata": {},
   "outputs": [
    {
     "name": "stdout",
     "output_type": "stream",
     "text": [
      "_________________________________________________________________\n",
      "Layer (type)                 Output Shape              Param #   \n",
      "=================================================================\n",
      "dense_3 (Dense)              (None, 512)               401920    \n",
      "_________________________________________________________________\n",
      "dense_4 (Dense)              (None, 10)                5130      \n",
      "=================================================================\n",
      "Total params: 407,050\n",
      "Trainable params: 407,050\n",
      "Non-trainable params: 0\n",
      "_________________________________________________________________\n"
     ]
    }
   ],
   "source": [
    "#Dense or fully connected is the most simple architecture for neural network\n",
    "#activation function = relu --> because it's a good start\n",
    "#softmax makes sure that the sum of probability of all the 10 classes is 1 and each probability is between 0 and 1\n",
    "#Every layer has an activation function\n",
    "\n",
    "model = models.Sequential()\n",
    "model.add(layers.Dense(512, activation='relu',input_shape=(784,)))\n",
    "#model.add(layers.Flatten())\n",
    "model.add(layers.Dense(10,activation='softmax'))\n",
    "\n",
    "model.summary()\n",
    "\n",
    "#14848 is the number of the weights (28*512) + the number of bias (512)"
   ]
  },
  {
   "cell_type": "markdown",
   "metadata": {},
   "source": [
    "# Reshaping inside the Neural Network Architecture definition\n",
    "\n",
    "model = models.Sequential()\n",
    "\n",
    "### model.add(layers.Reshape((28*28,),input_shape=(28,28)))\n",
    "\n",
    "model.add(layers.Dense(512, activation='relu',input_shape=(28*28,))) #512 is the output of layer\n",
    "model.add(layers.Dense(10,activation='softmax'))"
   ]
  },
  {
   "cell_type": "markdown",
   "metadata": {},
   "source": [
    "# Compiling the Neural Network"
   ]
  },
  {
   "cell_type": "markdown",
   "metadata": {},
   "source": [
    "The optimizer \"rmsprop\" changes the learning\n",
    "lost function tell you how much error you have (distances between probability distribution)\n",
    "\n",
    "FOR CLASSIFICATION WE NEED TO USE SOFTMAX AND CATEGORICAL CROSSENTROPY (more than two classes);\n",
    "If we are considering two classes, we could use binary_crossentropy\n",
    "#Accuracy --> how much you predictions are correct\n",
    "#Loss --> how much the error is"
   ]
  },
  {
   "cell_type": "code",
   "execution_count": 3,
   "metadata": {},
   "outputs": [],
   "source": [
    "model.compile(optimizer='rmsprop',loss='categorical_crossentropy',metrics=['accuracy'])"
   ]
  },
  {
   "cell_type": "code",
   "execution_count": 4,
   "metadata": {},
   "outputs": [
    {
     "name": "stdout",
     "output_type": "stream",
     "text": [
      "train shape is: (60000, 28, 28)\n",
      "train label are (60000,)\n",
      "test shape is: (10000, 28, 28)\n",
      "test label are (10000,)\n"
     ]
    }
   ],
   "source": [
    "#Loading the train and test dataset\n",
    "(train_images,train_labels),(test_images,test_labels) = mnist.load_data()\n",
    "print('train shape is:',train_images.shape)\n",
    "print('train label are',train_labels.shape)\n",
    "print('test shape is:',test_images.shape)\n",
    "print('test label are',test_labels.shape)"
   ]
  },
  {
   "cell_type": "code",
   "execution_count": 5,
   "metadata": {},
   "outputs": [
    {
     "data": {
      "image/png": "[encoded data removed]",
      "text/plain": [
       "<Figure size 432x288 with 1 Axes>"
      ]
     },
     "metadata": {},
     "output_type": "display_data"
    }
   ],
   "source": [
    "i=0\n",
    "plt.imshow(train_images[i],cmap='gray')\n",
    "plt.title(str(train_labels[i]))  \n",
    "plt.show()"
   ]
  },
  {
   "cell_type": "code",
   "execution_count": 6,
   "metadata": {},
   "outputs": [
    {
     "name": "stdout",
     "output_type": "stream",
     "text": [
      "(60000, 28, 28)\n",
      "<class 'numpy.ndarray'>\n"
     ]
    },
    {
     "data": {
      "text/plain": [
       "(28, 28)"
      ]
     },
     "execution_count": 6,
     "metadata": {},
     "output_type": "execute_result"
    }
   ],
   "source": [
    "print(train_images.shape)\n",
    "print(type(train_images))\n",
    "train_images[0].shape"
   ]
  },
  {
   "cell_type": "markdown",
   "metadata": {},
   "source": [
    "## Feature Scaling --> numbers from 0 to 255 and Reshaping"
   ]
  },
  {
   "cell_type": "code",
   "execution_count": 7,
   "metadata": {},
   "outputs": [],
   "source": [
    "train_images = train_images.reshape((60000,28*28))\n",
    "train_images = train_images.astype('float32')/255.0  \n",
    "\n",
    "test_images = test_images.reshape((10000,28*28))\n",
    "test_images = test_images.astype('float32')/255.0"
   ]
  },
  {
   "cell_type": "code",
   "execution_count": 8,
   "metadata": {},
   "outputs": [],
   "source": [
    "#Now we need to create the output layer of ten classes. (10000,) --> (10000,10)\n",
    "from keras.utils import to_categorical\n",
    "\n",
    "train_labels = to_categorical(train_labels)  #like one hot encoding\n",
    "test_labels = to_categorical(test_labels)"
   ]
  },
  {
   "cell_type": "markdown",
   "metadata": {},
   "source": [
    "# Evaluating the model before the training (optimization)"
   ]
  },
  {
   "cell_type": "code",
   "execution_count": 9,
   "metadata": {},
   "outputs": [
    {
     "name": "stdout",
     "output_type": "stream",
     "text": [
      "60000/60000 [==============================] - 3s 43us/step\n"
     ]
    },
    {
     "data": {
      "text/plain": [
       "[2.4205099868774416, 0.08238333333333334]"
      ]
     },
     "execution_count": 9,
     "metadata": {},
     "output_type": "execute_result"
    }
   ],
   "source": [
    "#weights are initialized as small and random numbers\n",
    "#The model evaluation gives us the loss function and also the accuracy of the model\n",
    "model.evaluate(train_images,train_labels)"
   ]
  },
  {
   "cell_type": "code",
   "execution_count": 10,
   "metadata": {},
   "outputs": [
    {
     "data": {
      "text/plain": [
       "array([[0.05868605, 0.15625581, 0.13358255, 0.06866248, 0.05212016,\n",
       "        0.08336701, 0.09200297, 0.15433073, 0.13566943, 0.06532285]],\n",
       "      dtype=float32)"
      ]
     },
     "execution_count": 10,
     "metadata": {},
     "output_type": "execute_result"
    }
   ],
   "source": [
    "#The prediction gives us an array of ten elements with the probability for each class\n",
    "#Having used the softmax function, the sum of all probabilities will be 1\n",
    "model.predict(train_images[0:1])   #assumes an array as input so at list 2 dimensional"
   ]
  },
  {
   "cell_type": "code",
   "execution_count": 11,
   "metadata": {},
   "outputs": [
    {
     "name": "stdout",
     "output_type": "stream",
     "text": [
      "[[0.05868605 0.15625581 0.13358255 0.06866248 0.05212016 0.08336701\n",
      "  0.09200297 0.15433073 0.13566943 0.06532285]]\n",
      "0.15625581\n",
      "1\n",
      "[0. 0. 0. 0. 0. 1. 0. 0. 0. 0.]\n"
     ]
    }
   ],
   "source": [
    "import numpy as np\n",
    "print(model.predict(train_images[0:1]))\n",
    "print(np.max(model.predict(train_images[0:1])))\n",
    "print(np.argmax(model.predict(train_images[0:1])))\n",
    "print(train_labels[0])"
   ]
  },
  {
   "cell_type": "markdown",
   "metadata": {},
   "source": [
    "# Fitting the model"
   ]
  },
  {
   "cell_type": "code",
   "execution_count": 12,
   "metadata": {},
   "outputs": [
    {
     "name": "stdout",
     "output_type": "stream",
     "text": [
      "Epoch 1/5\n",
      "60000/60000 [==============================] - 5s 77us/step - loss: 0.2558 - acc: 0.9265\n",
      "Epoch 2/5\n",
      "60000/60000 [==============================] - 4s 74us/step - loss: 0.1033 - acc: 0.9698\n",
      "Epoch 3/5\n",
      "60000/60000 [==============================] - 5s 75us/step - loss: 0.0689 - acc: 0.9796\n",
      "Epoch 4/5\n",
      "60000/60000 [==============================] - 5s 75us/step - loss: 0.0501 - acc: 0.9850\n",
      "Epoch 5/5\n",
      "60000/60000 [==============================] - 5s 77us/step - loss: 0.0377 - acc: 0.9886\n"
     ]
    }
   ],
   "source": [
    "history = model.fit(\n",
    "    train_images,train_labels,\n",
    "    epochs=5,\n",
    "    batch_size=128)"
   ]
  },
  {
   "cell_type": "code",
   "execution_count": 13,
   "metadata": {},
   "outputs": [
    {
     "name": "stdout",
     "output_type": "stream",
     "text": [
      "{'loss': [0.25583986087640126, 0.10327355385224024, 0.06885524533390999, 0.05010161094168822, 0.037708531599243485], 'acc': [0.9265333333015442, 0.9698166666348775, 0.9795833333333334, 0.9850166666348775, 0.9886333333333334]}\n"
     ]
    }
   ],
   "source": [
    "#history.history print out the loss and accuracy for each epoch\n",
    "print(history.history)"
   ]
  },
  {
   "cell_type": "code",
   "execution_count": 14,
   "metadata": {},
   "outputs": [
    {
     "data": {
      "image/png": "[encoded data removed]",
      "text/plain": [
       "<Figure size 432x288 with 1 Axes>"
      ]
     },
     "metadata": {},
     "output_type": "display_data"
    },
    {
     "data": {
      "image/png": "[encoded data removed]",
      "text/plain": [
       "<Figure size 432x288 with 1 Axes>"
      ]
     },
     "metadata": {},
     "output_type": "display_data"
    }
   ],
   "source": [
    "plt.plot(history.history['loss'],label='loss')\n",
    "plt.legend()\n",
    "plt.show()\n",
    "plt.close()\n",
    "\n",
    "plt.plot(history.history['acc'],label='acc')\n",
    "plt.legend()\n",
    "plt.show()\n",
    "plt.close()"
   ]
  },
  {
   "cell_type": "code",
   "execution_count": 16,
   "metadata": {},
   "outputs": [
    {
     "name": "stdout",
     "output_type": "stream",
     "text": [
      "10000/10000 [==============================] - 0s 47us/step\n",
      "0.06075725774471648 0.9816\n"
     ]
    }
   ],
   "source": [
    "test_loss, test_acc = model.evaluate(test_images,test_labels)\n",
    "print(test_loss,test_acc)"
   ]
  },
  {
   "cell_type": "code",
   "execution_count": null,
   "metadata": {},
   "outputs": [],
   "source": [
    "#The model is working very well and the accuracy of the test set is the same as the training"
   ]
  }
 ],
 "metadata": {
  "kernelspec": {
   "display_name": "Python 3",
   "language": "python",
   "name": "python3"
  },
  "language_info": {
   "codemirror_mode": {
    "name": "ipython",
    "version": 3
   },
   "file_extension": ".py",
   "mimetype": "text/x-python",
   "name": "python",
   "nbconvert_exporter": "python",
   "pygments_lexer": "ipython3",
   "version": "3.6.5"
  }
 },
 "nbformat": 4,
 "nbformat_minor": 2
}
